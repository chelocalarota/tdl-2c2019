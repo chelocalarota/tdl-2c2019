{
 "cells": [
  {
   "cell_type": "code",
   "execution_count": 2,
   "metadata": {},
   "outputs": [],
   "source": [
    "using Distributed"
   ]
  },
  {
   "cell_type": "markdown",
   "metadata": {},
   "source": [
    "### Preparo los workers"
   ]
  },
  {
   "cell_type": "code",
   "execution_count": 3,
   "metadata": {},
   "outputs": [
    {
     "name": "stdout",
     "output_type": "stream",
     "text": [
      "      From worker 2:\tERROR: could not load library \"/home/ubuntu/julia-1.2.0/lib/julia/sys.so\"\n",
      "      From worker 2:\t/home/ubuntu/julia-1.2.0/lib/julia/sys.so: failed to map segment from shared object\n"
     ]
    },
    {
     "ename": "CompositeException",
     "evalue": "On worker 2:\nUnable to read host:port string from worker. Launch command exited with error?\nread_worker_host_port at /buildworker/worker/package_linux64/build/usr/share/julia/stdlib/v1.2/Distributed/src/cluster.jl:320\nlaunch_additional at /buildworker/worker/package_linux64/build/usr/share/julia/stdlib/v1.2/Distributed/src/cluster.jl:679\n#112 at /buildworker/worker/package_linux64/build/usr/share/julia/stdlib/v1.2/Distributed/src/process_messages.jl:292\nrun_work_thunk at /buildworker/worker/package_linux64/build/usr/share/julia/stdlib/v1.2/Distributed/src/process_messages.jl:79\nmacro expansion at /buildworker/worker/package_linux64/build/usr/share/julia/stdlib/v1.2/Distributed/src/process_messages.jl:292 [inlined]\n#111 at ./task.jl:268\n#remotecall_fetch#149(::Base.Iterators.Pairs{Union{},Union{},Tuple{},NamedTuple{(),Tuple{}}}, ::typeof(remotecall_fetch), ::Function, ::Distributed.Worker, ::Int64, ::Vararg{Any,N} where N) at /home/buildbot/build-worker/worker/juliapro-release-centos7-0_6/build/tmp_julia/share/julia/stdlib/v1.2/Distributed/src/remotecall.jl:379\nremotecall_fetch(::Function, ::Distributed.Worker, ::Int64, ::Vararg{Any,N} where N) at /home/buildbot/build-worker/worker/juliapro-release-centos7-0_6/build/tmp_julia/share/julia/stdlib/v1.2/Distributed/src/remotecall.jl:371\n#remotecall_fetch#152(::Base.Iterators.Pairs{Union{},Union{},Tuple{},NamedTuple{(),Tuple{}}}, ::typeof(remotecall_fetch), ::Function, ::Int64, ::Int64, ::Vararg{Any,N} where N) at /home/buildbot/build-worker/worker/juliapro-release-centos7-0_6/build/tmp_julia/share/julia/stdlib/v1.2/Distributed/src/remotecall.jl:406\nremotecall_fetch at /home/buildbot/build-worker/worker/juliapro-release-centos7-0_6/build/tmp_julia/share/julia/stdlib/v1.2/Distributed/src/remotecall.jl:406 [inlined]\nmacro expansion at /home/buildbot/build-worker/worker/juliapro-release-centos7-0_6/build/tmp_julia/share/julia/stdlib/v1.2/Distributed/src/cluster.jl:544 [inlined]\nmacro expansion at ./task.jl:253 [inlined]\nlaunch_n_additional_processes(::Distributed.SSHManager, ::Int64, ::WorkerConfig, ::Int64, ::Array{Int64,1}) at /home/buildbot/build-worker/worker/juliapro-release-centos7-0_6/build/tmp_julia/share/julia/stdlib/v1.2/Distributed/src/cluster.jl:539\nsetup_launched_worker(::Distributed.SSHManager, ::WorkerConfig, ::Array{Int64,1}) at /home/buildbot/build-worker/worker/juliapro-release-centos7-0_6/build/tmp_julia/share/julia/stdlib/v1.2/Distributed/src/cluster.jl:533\n(::getfield(Distributed, Symbol(\"##47#50\")){Distributed.SSHManager,Array{Int64,1},WorkerConfig})() at ./task.jl:268",
     "output_type": "error",
     "traceback": [
      "On worker 2:\nUnable to read host:port string from worker. Launch command exited with error?\nread_worker_host_port at /buildworker/worker/package_linux64/build/usr/share/julia/stdlib/v1.2/Distributed/src/cluster.jl:320\nlaunch_additional at /buildworker/worker/package_linux64/build/usr/share/julia/stdlib/v1.2/Distributed/src/cluster.jl:679\n#112 at /buildworker/worker/package_linux64/build/usr/share/julia/stdlib/v1.2/Distributed/src/process_messages.jl:292\nrun_work_thunk at /buildworker/worker/package_linux64/build/usr/share/julia/stdlib/v1.2/Distributed/src/process_messages.jl:79\nmacro expansion at /buildworker/worker/package_linux64/build/usr/share/julia/stdlib/v1.2/Distributed/src/process_messages.jl:292 [inlined]\n#111 at ./task.jl:268\n#remotecall_fetch#149(::Base.Iterators.Pairs{Union{},Union{},Tuple{},NamedTuple{(),Tuple{}}}, ::typeof(remotecall_fetch), ::Function, ::Distributed.Worker, ::Int64, ::Vararg{Any,N} where N) at /home/buildbot/build-worker/worker/juliapro-release-centos7-0_6/build/tmp_julia/share/julia/stdlib/v1.2/Distributed/src/remotecall.jl:379\nremotecall_fetch(::Function, ::Distributed.Worker, ::Int64, ::Vararg{Any,N} where N) at /home/buildbot/build-worker/worker/juliapro-release-centos7-0_6/build/tmp_julia/share/julia/stdlib/v1.2/Distributed/src/remotecall.jl:371\n#remotecall_fetch#152(::Base.Iterators.Pairs{Union{},Union{},Tuple{},NamedTuple{(),Tuple{}}}, ::typeof(remotecall_fetch), ::Function, ::Int64, ::Int64, ::Vararg{Any,N} where N) at /home/buildbot/build-worker/worker/juliapro-release-centos7-0_6/build/tmp_julia/share/julia/stdlib/v1.2/Distributed/src/remotecall.jl:406\nremotecall_fetch at /home/buildbot/build-worker/worker/juliapro-release-centos7-0_6/build/tmp_julia/share/julia/stdlib/v1.2/Distributed/src/remotecall.jl:406 [inlined]\nmacro expansion at /home/buildbot/build-worker/worker/juliapro-release-centos7-0_6/build/tmp_julia/share/julia/stdlib/v1.2/Distributed/src/cluster.jl:544 [inlined]\nmacro expansion at ./task.jl:253 [inlined]\nlaunch_n_additional_processes(::Distributed.SSHManager, ::Int64, ::WorkerConfig, ::Int64, ::Array{Int64,1}) at /home/buildbot/build-worker/worker/juliapro-release-centos7-0_6/build/tmp_julia/share/julia/stdlib/v1.2/Distributed/src/cluster.jl:539\nsetup_launched_worker(::Distributed.SSHManager, ::WorkerConfig, ::Array{Int64,1}) at /home/buildbot/build-worker/worker/juliapro-release-centos7-0_6/build/tmp_julia/share/julia/stdlib/v1.2/Distributed/src/cluster.jl:533\n(::getfield(Distributed, Symbol(\"##47#50\")){Distributed.SSHManager,Array{Int64,1},WorkerConfig})() at ./task.jl:268",
      "",
      "Stacktrace:",
      " [1] sync_end(::Array{Any,1}) at ./task.jl:235",
      " [2] macro expansion at ./task.jl:254 [inlined]",
      " [3] #addprocs_locked#44(::Base.Iterators.Pairs{Symbol,Any,NTuple{5,Symbol},NamedTuple{(:tunnel, :sshflags, :max_parallel, :exename, :dir),Tuple{Bool,Cmd,Int64,Cmd,String}}}, ::typeof(Distributed.addprocs_locked), ::Distributed.SSHManager) at /home/buildbot/build-worker/worker/juliapro-release-centos7-0_6/build/tmp_julia/share/julia/stdlib/v1.2/Distributed/src/cluster.jl:474",
      " [4] #addprocs_locked at ./none:0 [inlined]",
      " [5] #addprocs#43(::Base.Iterators.Pairs{Symbol,Any,NTuple{5,Symbol},NamedTuple{(:tunnel, :sshflags, :max_parallel, :exename, :dir),Tuple{Bool,Cmd,Int64,Cmd,String}}}, ::typeof(addprocs), ::Distributed.SSHManager) at /home/buildbot/build-worker/worker/juliapro-release-centos7-0_6/build/tmp_julia/share/julia/stdlib/v1.2/Distributed/src/cluster.jl:438",
      " [6] #addprocs at ./none:0 [inlined]",
      " [7] #addprocs#249 at /home/buildbot/build-worker/worker/juliapro-release-centos7-0_6/build/tmp_julia/share/julia/stdlib/v1.2/Distributed/src/managers.jl:118 [inlined]",
      " [8] (::getfield(Distributed, Symbol(\"#kw##addprocs\")))(::NamedTuple{(:sshflags, :tunnel, :exename, :dir),Tuple{Cmd,Bool,Cmd,String}}, ::typeof(addprocs), ::Array{Tuple{String,Int64},1}) at ./none:0",
      " [9] top-level scope at In[3]:2"
     ]
    }
   ],
   "source": [
    "workervec = [(\"ubuntu@18.221.214.62:22\", 2)]\n",
    "addprocs(workervec; sshflags=`-i ./JuliaServer.pem`, tunnel=true, exename=`/home/ubuntu/julia-1.2.0/bin/julia`, dir=\"/home/ubuntu/tdl-2c2019\")\n"
   ]
  },
  {
   "cell_type": "code",
   "execution_count": 5,
   "metadata": {},
   "outputs": [
    {
     "data": {
      "text/plain": [
       "2-element Array{Int64,1}:\n",
       " 3\n",
       " 4"
      ]
     },
     "execution_count": 5,
     "metadata": {},
     "output_type": "execute_result"
    }
   ],
   "source": [
    "addprocs(2)"
   ]
  },
  {
   "cell_type": "code",
   "execution_count": 6,
   "metadata": {},
   "outputs": [
    {
     "name": "stdout",
     "output_type": "stream",
     "text": [
      "Qty workers: [2, 3, 4]\n"
     ]
    }
   ],
   "source": [
    "@everywhere using Distributed\n",
    "@everywhere using PyCall\n",
    "println(\"Qty workers: \", workers())"
   ]
  },
  {
   "cell_type": "code",
   "execution_count": 7,
   "metadata": {},
   "outputs": [],
   "source": [
    "@everywhere function listenChannel(channel)\n",
    "    println(\"Listen Started\")\n",
    "    id = 1\n",
    "    while(id != -1)\n",
    "        id = take!(channel)\n",
    "        message = string(\"I'm process: \", string(myid()), \" and i read element: \", id, \" from the channel\")\n",
    "        println(message)\n",
    "    end\n",
    "    println(string(\"i'm process: \", string(myid()), \" and i'm finished listening\"))\n",
    "end"
   ]
  },
  {
   "cell_type": "markdown",
   "metadata": {},
   "source": [
    "### Crea un canal remoto, para el pid 1(el main process) que alojara un canal vacio de 1000 Strings\n"
   ]
  },
  {
   "cell_type": "code",
   "execution_count": 8,
   "metadata": {},
   "outputs": [
    {
     "data": {
      "text/plain": [
       "3-element Array{Future,1}:\n",
       " Future(2, 1, 31, nothing)\n",
       " Future(3, 1, 32, nothing)\n",
       " Future(4, 1, 33, nothing)"
      ]
     },
     "execution_count": 8,
     "metadata": {},
     "output_type": "execute_result"
    },
    {
     "name": "stdout",
     "output_type": "stream",
     "text": [
      "      From worker 4:\tListen Started\n",
      "      From worker 3:\tListen Started\n",
      "      From worker 2:\tListen Started\n"
     ]
    }
   ],
   "source": [
    "channel = RemoteChannel(() -> Channel{String}(1000), 1)\n",
    "[@spawnat i listenChannel(channel) for i in workers()]"
   ]
  },
  {
   "cell_type": "markdown",
   "metadata": {},
   "source": [
    "### pero ahora populo el canal para que los procesos extraigan del canal"
   ]
  },
  {
   "cell_type": "code",
   "execution_count": 9,
   "metadata": {},
   "outputs": [
    {
     "data": {
      "text/plain": [
       "fillChannel (generic function with 1 method)"
      ]
     },
     "execution_count": 9,
     "metadata": {},
     "output_type": "execute_result"
    }
   ],
   "source": [
    "function fillChannel(channel, size)\n",
    "    for i=1:size\n",
    "        put!(channel, string(\"Elemento: \", i))\n",
    "    end\n",
    "\n",
    "    for i=1:length(workers())\n",
    "        put!(channel, string(-1))\n",
    "    end\n",
    "end"
   ]
  },
  {
   "cell_type": "code",
   "execution_count": 10,
   "metadata": {},
   "outputs": [
    {
     "name": "stdout",
     "output_type": "stream",
     "text": [
      "filling the channel\n",
      "      From worker 4:\tI'm process: 4 and i read element: Elemento: 2 from the channel\n",
      "      From worker 3:\tI'm process: 3 and i read element: Elemento: 1 from the channel\n",
      "      From worker 3:\tI'm process: 3 and i read element: Elemento: 4 from the channel\n",
      "      From worker 4:\tI'm process: 4 and i read element: Elemento: 5 from the channel\n",
      "      From worker 4:\tI'm process: 4 and i read element: Elemento: 6 from the channel\n",
      "      From worker 4:\tI'm process: 4 and i read element: Elemento: 7 from the channel\n",
      "      From worker 4:\tI'm process: 4 and i read element: Elemento: 8 from the channel\n",
      "      From worker 4:\tI'm process: 4 and i read element: Elemento: 9 from the channel\n",
      "      From worker 4:\tI'm process: 4 and i read element: Elemento: 10 from the channel\n",
      "      From worker 4:\tI'm process: 4 and i read element: Elemento: 11 from the channel\n",
      "      From worker 4:\tI'm process: 4 and i read element: Elemento: 12 from the channel\n",
      "      From worker 3:\tI'm process: 3 and i read element: Elemento: 13 from the channel\n",
      "      From worker 3:\tI'm process: 3 and i read element: Elemento: 14 from the channel\n",
      "      From worker 3:\tI'm process: 3 and i read element: Elemento: 15 from the channel\n",
      "      From worker 3:\tI'm process: 3 and i read element: Elemento: 16 from the channel\n",
      "      From worker 3:\tI'm process: 3 and i read element: -1 from the channel\n",
      "      From worker 3:\tI'm process: 3 and i read element: -1 from the channel\n",
      "      From worker 3:\tI'm process: 3 and i read element: -1 from the channel\n",
      "      From worker 2:\tI'm process: 2 and i read element: Elemento: 3 from the channel\n"
     ]
    }
   ],
   "source": [
    "println(\"filling the channel\")\n",
    "fillChannel(channel, 16)\n"
   ]
  },
  {
   "cell_type": "code",
   "execution_count": null,
   "metadata": {},
   "outputs": [],
   "source": []
  }
 ],
 "metadata": {
  "kernelspec": {
   "display_name": "Julia 1.2.0",
   "language": "julia",
   "name": "julia-1.2"
  },
  "language_info": {
   "file_extension": ".jl",
   "mimetype": "application/julia",
   "name": "julia",
   "version": "1.2.0"
  }
 },
 "nbformat": 4,
 "nbformat_minor": 4
}
