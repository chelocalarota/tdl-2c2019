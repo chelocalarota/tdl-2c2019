{
 "cells": [
  {
   "cell_type": "markdown",
   "metadata": {},
   "source": [
    "# Paralelismo (local)"
   ]
  },
  {
   "cell_type": "markdown",
   "metadata": {},
   "source": [
    "### Coroutines"
   ]
  },
  {
   "cell_type": "code",
   "execution_count": null,
   "metadata": {},
   "outputs": [],
   "source": [
    "# creamos los canales\n",
    "c1 = Channel(32)\n",
    "c2 = Channel(32)"
   ]
  },
  {
   "cell_type": "code",
   "execution_count": null,
   "metadata": {},
   "outputs": [],
   "source": [
    "# escribimos unos datos en los canales\n",
    "put!(c1, \"Apu\")\n",
    "put!(c1, \"Homero\")\n",
    "put!(c1, \"Bart\")\n",
    "put!(c1, 80)\n",
    "put!(c1, 44)\n",
    "put!(c1, 55)"
   ]
  },
  {
   "cell_type": "code",
   "execution_count": null,
   "metadata": {},
   "outputs": [],
   "source": [
    "accion(dato::Int64) = dato + 2\n",
    "accion(dato::String) = \"Hola \" * dato * \"!!\"\n",
    "\n",
    "# lee un item de c1, lo printea y lo escribe en c2\n",
    "function foo()\n",
    "    while true\n",
    "        dato = take!(c1)\n",
    "        println(dato)\n",
    "        resultado = accion(dato)\n",
    "        put!(c2, resultado)   \n",
    "    end\n",
    "end"
   ]
  },
  {
   "cell_type": "code",
   "execution_count": null,
   "metadata": {},
   "outputs": [],
   "source": [
    "# con @async hacemos que varias instancias de foo() estén activas concurrentemente.\n",
    "for i in 1:size(c1.data)[1]\n",
    "    @async foo()\n",
    "end"
   ]
  },
  {
   "cell_type": "code",
   "execution_count": null,
   "metadata": {},
   "outputs": [],
   "source": [
    "for i in 1:size(c2.data)[1]\n",
    "    data= take!(c2)\n",
    "    println(data)\n",
    "end"
   ]
  },
  {
   "cell_type": "markdown",
   "metadata": {},
   "source": [
    "### Distributed processing"
   ]
  },
  {
   "cell_type": "code",
   "execution_count": null,
   "metadata": {},
   "outputs": [],
   "source": [
    "using Distributed"
   ]
  },
  {
   "cell_type": "code",
   "execution_count": null,
   "metadata": {},
   "outputs": [],
   "source": [
    "# primero vamos a ver cuántos procesos están corriendo\n",
    "println(nprocs())"
   ]
  },
  {
   "cell_type": "code",
   "execution_count": null,
   "metadata": {},
   "outputs": [],
   "source": [
    "# agregamos 4 workers más\n",
    "addprocs(4)"
   ]
  },
  {
   "cell_type": "code",
   "execution_count": null,
   "metadata": {},
   "outputs": [],
   "source": [
    "println(nprocs())"
   ]
  },
  {
   "cell_type": "code",
   "execution_count": null,
   "metadata": {},
   "outputs": [],
   "source": [
    "workers()"
   ]
  },
  {
   "cell_type": "code",
   "execution_count": null,
   "metadata": {},
   "outputs": [],
   "source": [
    "# borramos 2\n",
    "rmprocs(4, 5)"
   ]
  },
  {
   "cell_type": "code",
   "execution_count": null,
   "metadata": {},
   "outputs": [],
   "source": [
    "workers()"
   ]
  },
  {
   "cell_type": "code",
   "execution_count": null,
   "metadata": {},
   "outputs": [],
   "source": [
    "# vamos a ver qué id tiene el proceso local\n",
    "println(\"Hola, soy el worker \" * string(myid()) * \" y los quiero mucho\")"
   ]
  },
  {
   "cell_type": "code",
   "execution_count": null,
   "metadata": {},
   "outputs": [],
   "source": [
    "# vamos a ver qué ids tienen los procesos distribuidos\n",
    "for w in workers()\n",
    "    rref = remotecall(myid, w)\n",
    "    sleep(1)\n",
    "    println(\"Hola, soy el worker \" * string(fetch(rref)) * \" y no los quiero tanto\")\n",
    "end"
   ]
  },
  {
   "cell_type": "markdown",
   "metadata": {},
   "source": [
    "### Remotecall + Fetch"
   ]
  },
  {
   "cell_type": "code",
   "execution_count": null,
   "metadata": {},
   "outputs": [],
   "source": [
    "dim = 5\n",
    "res = remotecall(rand, 2, dim, dim)\n",
    "res2 = remotecall(rand, 3, dim, dim)\n",
    "resultado = fetch(remotecall(*, 6, fetch(res), fetch(res2)))"
   ]
  },
  {
   "cell_type": "markdown",
   "metadata": {},
   "source": [
    "### Spawn"
   ]
  },
  {
   "cell_type": "code",
   "execution_count": null,
   "metadata": {},
   "outputs": [],
   "source": [
    "# definimos una funcion a todos los workers\n",
    "@everywhere function numero_rand(veces)\n",
    "    resultado::Int = 0\n",
    "    for i = 1:veces\n",
    "        resultado += rand(Bool)\n",
    "    end\n",
    "    resultado\n",
    "end"
   ]
  },
  {
   "cell_type": "code",
   "execution_count": null,
   "metadata": {},
   "outputs": [],
   "source": [
    "a = @spawn numero_rand(100)"
   ]
  },
  {
   "cell_type": "code",
   "execution_count": null,
   "metadata": {},
   "outputs": [],
   "source": [
    "b = @spawn numero_rand(10)"
   ]
  },
  {
   "cell_type": "code",
   "execution_count": null,
   "metadata": {},
   "outputs": [],
   "source": [
    "println(fetch(a)+fetch(b))"
   ]
  },
  {
   "cell_type": "code",
   "execution_count": null,
   "metadata": {},
   "outputs": [],
   "source": []
  }
 ],
 "metadata": {
  "kernelspec": {
   "display_name": "Julia 1.0.5",
   "language": "julia",
   "name": "julia-1.0"
  },
  "language_info": {
   "file_extension": ".jl",
   "mimetype": "application/julia",
   "name": "julia",
   "version": "1.0.5"
  }
 },
 "nbformat": 4,
 "nbformat_minor": 2
}
