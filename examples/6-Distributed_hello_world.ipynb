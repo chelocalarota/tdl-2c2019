{
 "cells": [
  {
   "cell_type": "code",
   "execution_count": 2,
   "metadata": {},
   "outputs": [],
   "source": [
    "using Distributed\n",
    "#@everywhere import Pkg\n",
    "#@everywhere Pkg.instantiate()\n",
    "#@everywhere Pkg.add(\"PyCall\")"
   ]
  },
  {
   "cell_type": "markdown",
   "metadata": {},
   "source": [
    "## Asigno los workers"
   ]
  },
  {
   "cell_type": "code",
   "execution_count": 3,
   "metadata": {},
   "outputs": [
    {
     "data": {
      "text/plain": [
       "2-element Array{Int64,1}:\n",
       " 4\n",
       " 5"
      ]
     },
     "execution_count": 3,
     "metadata": {},
     "output_type": "execute_result"
    }
   ],
   "source": [
    "workervec = [(\"ubuntu@18.221.214.62:22\", 2)]\n",
    "addprocs(workervec; sshflags=`-i /home/moxnox/tdl-2c2019/JuliaServer.pem`, tunnel=true, exename=`/home/ubuntu/julia-1.2.0/bin/julia`, dir=\"/home/ubuntu/tdl-2c2019\")\n",
    "addprocs(2)"
   ]
  },
  {
   "cell_type": "markdown",
   "metadata": {},
   "source": [
    "### Preparo los workers con las librerias necesarias"
   ]
  },
  {
   "cell_type": "code",
   "execution_count": 4,
   "metadata": {},
   "outputs": [
    {
     "name": "stdout",
     "output_type": "stream",
     "text": [
      "Qty workers: [2, 3, 4, 5]\n"
     ]
    }
   ],
   "source": [
    "@everywhere using Distributed\n",
    "@everywhere using PyCall\n",
    "@everywhere socket = pyimport(\"socket\")\n",
    "println(\"Qty workers: \", workers())"
   ]
  },
  {
   "cell_type": "code",
   "execution_count": 5,
   "metadata": {},
   "outputs": [],
   "source": [
    "@everywhere function printhello(data)\n",
    "    println(\"hi from node \", myid())\n",
    "    println(\"my hostname is \", socket.gethostname())\n",
    "    println(\" and the data is \", data)\n",
    "end\n"
   ]
  },
  {
   "cell_type": "code",
   "execution_count": 6,
   "metadata": {},
   "outputs": [
    {
     "name": "stdout",
     "output_type": "stream",
     "text": [
      "      From worker 4:\thi from node 4\n",
      "      From worker 5:\thi from node 5\n",
      "      From worker 5:\tmy hostname is moxnox-Lenovo-V330-15IKB\n",
      "      From worker 5:\t and the data is 50\n",
      "      From worker 4:\tmy hostname is moxnox-Lenovo-V330-15IKB\n",
      "      From worker 4:\t and the data is 40\n",
      "      From worker 2:\thi from node 2\n",
      "      From worker 2:\tmy hostname is ip-172-31-11-89\n",
      "      From worker 2:\t and the data is 20\n",
      "      From worker 3:\thi from node 3\n",
      "      From worker 3:\tmy hostname is ip-172-31-11-89\n",
      "      From worker 3:\t and the data is 30\n"
     ]
    },
    {
     "data": {
      "text/plain": [
       "4-element Array{Future,1}:\n",
       " Future(2, 1, 47, nothing)\n",
       " Future(3, 1, 48, nothing)\n",
       " Future(4, 1, 49, nothing)\n",
       " Future(5, 1, 50, nothing)"
      ]
     },
     "execution_count": 6,
     "metadata": {},
     "output_type": "execute_result"
    }
   ],
   "source": [
    "@sync [@spawnat i printhello(i*10) for i in workers()]"
   ]
  },
  {
   "cell_type": "code",
   "execution_count": null,
   "metadata": {},
   "outputs": [],
   "source": []
  }
 ],
 "metadata": {
  "kernelspec": {
   "display_name": "Julia 1.2.0",
   "language": "julia",
   "name": "julia-1.2"
  },
  "language_info": {
   "file_extension": ".jl",
   "mimetype": "application/julia",
   "name": "julia",
   "version": "1.2.0"
  }
 },
 "nbformat": 4,
 "nbformat_minor": 4
}
