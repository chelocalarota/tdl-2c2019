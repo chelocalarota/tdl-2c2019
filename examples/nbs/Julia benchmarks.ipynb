{
 "cells": [
  {
   "cell_type": "code",
   "execution_count": 1,
   "metadata": {},
   "outputs": [
    {
     "data": {
      "text/plain": [
       "1000000-element Array{Float64,1}:\n",
       " 0.0\n",
       " 0.0\n",
       " 0.0\n",
       " 0.0\n",
       " 0.0\n",
       " 0.0\n",
       " 0.0\n",
       " 0.0\n",
       " 0.0\n",
       " 0.0\n",
       " 0.0\n",
       " 0.0\n",
       " 0.0\n",
       " ⋮  \n",
       " 0.0\n",
       " 0.0\n",
       " 0.0\n",
       " 0.0\n",
       " 0.0\n",
       " 0.0\n",
       " 0.0\n",
       " 0.0\n",
       " 0.0\n",
       " 0.0\n",
       " 0.0\n",
       " 0.0"
      ]
     },
     "execution_count": 1,
     "metadata": {},
     "output_type": "execute_result"
    }
   ],
   "source": [
    "# using Pkg\n",
    "# Pkg.add(\"BenchmarkTools\")\n",
    "using BenchmarkTools\n",
    "using Random\n",
    "using Statistics: minimum\n",
    "using Printf\n",
    "\n",
    "f(r, x1, x2, x3, x4, x5, x6, x7, x8) = @. r = x1 + x2\n",
    "g(r, x1, x2, x3, x4, x5, x6, x7, x8) = @. r = x1 + x2 - x3\n",
    "h(r, x1, x2, x3, x4, x5, x6, x7, x8) = @. r = x1 + x2 - x3 + x4\n",
    "i(r, x1, x2, x3, x4, x5, x6, x7, x8) = @. r = x1 + x2 - x3 + x4 - x5\n",
    "j(r, x1, x2, x3, x4, x5, x6, x7, x8) = @. r = x1 + x2 - x3 + x4 - x5 + x6\n",
    "k(r, x1, x2, x3, x4, x5, x6, x7, x8) = @. r = x1 + x2 - x3 + x4 - x5 + x6 - x7\n",
    "l(r, x1, x2, x3, x4, x5, x6, x7, x8) = @. r = x1 + x2 - x3 + x4 - x5 + x6 - x7 + x8\n",
    "\n",
    "N = 1000000\n",
    "rng = MersenneTwister(1234)\n",
    "x = [Random.randn(rng, N) for i in 1:8]\n",
    "function print_result(num, b)\n",
    "    best = minimum(b)\n",
    "    # The member \"time\" is in ns\n",
    "    @printf(\"%d\\t%8.2f\\n\", num, best.time / 1e6)\n",
    "end\n",
    "\n",
    "result = Array{Float64}(undef, N)"
   ]
  },
  {
   "cell_type": "code",
   "execution_count": 4,
   "metadata": {},
   "outputs": [
    {
     "name": "stdout",
     "output_type": "stream",
     "text": [
      "Terms\tSpeed [ms]\n",
      "2\t    2.25\n",
      "3\t    2.84\n",
      "4\t    3.45\n",
      "5\t    4.03\n",
      "6\t    4.63\n",
      "7\t    5.36\n",
      "8\t    6.78\n"
     ]
    }
   ],
   "source": [
    "println(\"Terms\\tSpeed [ms]\")\n",
    "print_result(2, @benchmark f(result, x...))\n",
    "print_result(3, @benchmark g(result, x...))\n",
    "print_result(4, @benchmark h(result, x...))\n",
    "print_result(5, @benchmark i(result, x...))\n",
    "print_result(6, @benchmark j(result, x...))\n",
    "print_result(7, @benchmark k(result, x...))\n",
    "print_result(8, @benchmark l(result, x...))"
   ]
  },
  {
   "cell_type": "code",
   "execution_count": null,
   "metadata": {},
   "outputs": [],
   "source": []
  }
 ],
 "metadata": {
  "kernelspec": {
   "display_name": "Julia 1.2.0",
   "language": "julia",
   "name": "julia-1.2"
  },
  "language_info": {
   "file_extension": ".jl",
   "mimetype": "application/julia",
   "name": "julia",
   "version": "1.2.0"
  }
 },
 "nbformat": 4,
 "nbformat_minor": 2
}
