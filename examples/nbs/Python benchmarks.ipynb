{
 "cells": [
  {
   "cell_type": "code",
   "execution_count": 1,
   "metadata": {},
   "outputs": [],
   "source": [
    "import timeit\n",
    "import numpy as np\n",
    "\n",
    "\n",
    "def f(r, x1, x2, x3, x4, x5, x6, x7, x8):\n",
    "    r = x1 + x2\n",
    "\n",
    "\n",
    "def g(r, x1, x2, x3, x4, x5, x6, x7, x8):\n",
    "    r = x1 + x2 - x3\n",
    "\n",
    "\n",
    "def h(r, x1, x2, x3, x4, x5, x6, x7, x8):\n",
    "    r = x1 + x2 - x3 + x4\n",
    "\n",
    "\n",
    "def i(r, x1, x2, x3, x4, x5, x6, x7, x8):\n",
    "    r = x1 + x2 - x3 + x4 - x5\n",
    "\n",
    "\n",
    "def j(r, x1, x2, x3, x4, x5, x6, x7, x8):\n",
    "    r = x1 + x2 - x3 + x4 - x5 + x6\n",
    "\n",
    "\n",
    "def k(r, x1, x2, x3, x4, x5, x6, x7, x8):\n",
    "    r = x1 + x2 - x3 + x4 - x5 + x6 - x7\n",
    "\n",
    "\n",
    "def l(r, x1, x2, x3, x4, x5, x6, x7, x8):\n",
    "    r = x1 + x2 - x3 + x4 - x5 + x6 - x7 + x8\n",
    "\n",
    "\n",
    "N = 1000000\n",
    "x = [np.random.randn(N) for i in range(8)]\n",
    "result = np.empty(N)\n",
    "\n",
    "\n",
    "def printtest(num, stmt):\n",
    "    num_of_calls = 1\n",
    "    setup = 'from __main__ import f, g, h, i, j, k, l, x, result'\n",
    "\n",
    "    minval = np.min(timeit.repeat(stmt, repeat=300,\n",
    "                                  number=num_of_calls, setup=setup))\n",
    "    print('{0}\\t{1:.2f}'.format(num, minval / num_of_calls * 1e3))"
   ]
  },
  {
   "cell_type": "code",
   "execution_count": 2,
   "metadata": {},
   "outputs": [
    {
     "name": "stdout",
     "output_type": "stream",
     "text": [
      "Terms\tSpeed [ms]\n",
      "2\t2.27\n",
      "3\t4.08\n",
      "4\t5.87\n",
      "5\t7.70\n",
      "6\t9.56\n",
      "7\t11.56\n",
      "8\t13.78\n"
     ]
    }
   ],
   "source": [
    "print(\"Terms\\tSpeed [ms]\")\n",
    "for idx, fnname in enumerate(['f', 'g', 'h', 'i', 'j', 'k', 'l']):\n",
    "    printtest(2 + idx, fnname + '(result, *x)')"
   ]
  }
 ],
 "metadata": {
  "kernelspec": {
   "display_name": "Python 3",
   "language": "python",
   "name": "python3"
  },
  "language_info": {
   "codemirror_mode": {
    "name": "ipython",
    "version": 3
   },
   "file_extension": ".py",
   "mimetype": "text/x-python",
   "name": "python",
   "nbconvert_exporter": "python",
   "pygments_lexer": "ipython3",
   "version": "3.7.3"
  }
 },
 "nbformat": 4,
 "nbformat_minor": 2
}
