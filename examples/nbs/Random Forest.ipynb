{
 "cells": [
  {
   "cell_type": "code",
   "execution_count": 2,
   "metadata": {},
   "outputs": [
    {
     "name": "stdout",
     "output_type": "stream",
     "text": [
      "\u001b[32m\u001b[1m  Updating\u001b[22m\u001b[39m registry at `/opt/julia/registries/General`\n",
      "\u001b[32m\u001b[1m  Updating\u001b[22m\u001b[39m git-repo `https://github.com/JuliaRegistries/General.git`\n",
      "\u001b[2K\u001b[?25h[1mFetching:\u001b[22m\u001b[39m [========================================>]  100.0 %.0 %\u001b[32m\u001b[1m Resolving\u001b[22m\u001b[39m package versions...\n",
      "\u001b[32m\u001b[1m Installed\u001b[22m\u001b[39m ScikitLearnBase ─ v0.5.0\n",
      "\u001b[32m\u001b[1m Installed\u001b[22m\u001b[39m DecisionTree ──── v0.9.1\n",
      "\u001b[32m\u001b[1m  Updating\u001b[22m\u001b[39m `/opt/julia/environments/v1.1/Project.toml`\n",
      " \u001b[90m [336ed68f]\u001b[39m\u001b[92m + CSV v0.5.13\u001b[39m\n",
      " \u001b[90m [7806a523]\u001b[39m\u001b[92m + DecisionTree v0.9.1\u001b[39m\n",
      " \u001b[90m [cd3eb016]\u001b[39m\u001b[92m + HTTP v0.8.7\u001b[39m\n",
      "\u001b[32m\u001b[1m  Updating\u001b[22m\u001b[39m `/opt/julia/environments/v1.1/Manifest.toml`\n",
      " \u001b[90m [7806a523]\u001b[39m\u001b[92m + DecisionTree v0.9.1\u001b[39m\n",
      " \u001b[90m [6e75b9c4]\u001b[39m\u001b[92m + ScikitLearnBase v0.5.0\u001b[39m\n"
     ]
    },
    {
     "name": "stderr",
     "output_type": "stream",
     "text": [
      "┌ Info: Precompiling DecisionTree [7806a523-6efd-50cb-b5f6-3fa6f1930dbb]\n",
      "└ @ Base loading.jl:1186\n",
      "┌ Info: Recompiling stale cache file /opt/julia/compiled/v1.1/HTTP/zXWya.ji for HTTP [cd3eb016-35fb-5094-929b-558a96fad6f3]\n",
      "└ @ Base loading.jl:1184\n"
     ]
    }
   ],
   "source": [
    "using Pkg\n",
    "Pkg.add([\"CSV\", \"DataFrames\", \"DecisionTree\", \"HTTP\"])\n",
    "using CSV, DataFrames, DecisionTree, HTTP"
   ]
  },
  {
   "cell_type": "code",
   "execution_count": 9,
   "metadata": {
    "scrolled": false
   },
   "outputs": [
    {
     "data": {
      "text/plain": [
       "150-element Array{String,1}:\n",
       " \"Iris-setosa\"   \n",
       " \"Iris-setosa\"   \n",
       " \"Iris-setosa\"   \n",
       " \"Iris-setosa\"   \n",
       " \"Iris-setosa\"   \n",
       " \"Iris-setosa\"   \n",
       " \"Iris-setosa\"   \n",
       " \"Iris-setosa\"   \n",
       " \"Iris-setosa\"   \n",
       " \"Iris-setosa\"   \n",
       " \"Iris-setosa\"   \n",
       " \"Iris-setosa\"   \n",
       " \"Iris-setosa\"   \n",
       " ⋮               \n",
       " \"Iris-virginica\"\n",
       " \"Iris-virginica\"\n",
       " \"Iris-virginica\"\n",
       " \"Iris-virginica\"\n",
       " \"Iris-virginica\"\n",
       " \"Iris-virginica\"\n",
       " \"Iris-virginica\"\n",
       " \"Iris-virginica\"\n",
       " \"Iris-virginica\"\n",
       " \"Iris-virginica\"\n",
       " \"Iris-virginica\"\n",
       " \"Iris-virginica\""
      ]
     },
     "execution_count": 9,
     "metadata": {},
     "output_type": "execute_result"
    }
   ],
   "source": [
    "features, labels = load_data(\"iris\")    # also see \"adult\" and \"digits\" datasets\n",
    "\n",
    "# the data loaded are of type Array{Any}\n",
    "# cast them to concrete types for better performance\n",
    "features = float.(features)\n",
    "labels   = string.(labels)"
   ]
  },
  {
   "cell_type": "markdown",
   "metadata": {},
   "source": [
    "### Creamos el modelo\n",
    "* 2 -> random features\n",
    "* 10 -> arboles\n",
    "* 0.5 -> porcion de samples por arbol\n",
    "* 6 -> profundidad maaxima de cada arbol"
   ]
  },
  {
   "cell_type": "code",
   "execution_count": 10,
   "metadata": {},
   "outputs": [
    {
     "data": {
      "text/plain": [
       "Ensemble of Decision Trees\n",
       "Trees:      10\n",
       "Avg Leaves: 6.2\n",
       "Avg Depth:  4.1"
      ]
     },
     "execution_count": 10,
     "metadata": {},
     "output_type": "execute_result"
    }
   ],
   "source": [
    "model = build_forest(labels, features, 2, 10, 0.5, 6)\n"
   ]
  },
  {
   "cell_type": "code",
   "execution_count": 11,
   "metadata": {},
   "outputs": [
    {
     "name": "stdout",
     "output_type": "stream",
     "text": [
      "\n",
      "Fold 1\n",
      "Classes:  "
     ]
    },
    {
     "data": {
      "text/plain": [
       "3×3 Array{Int64,2}:\n",
       " 15   0   0\n",
       "  0  23   0\n",
       "  0   0  12"
      ]
     },
     "metadata": {},
     "output_type": "display_data"
    },
    {
     "name": "stdout",
     "output_type": "stream",
     "text": [
      "[\"Iris-setosa\", \"Iris-versicolor\", \"Iris-virginica\"]\n",
      "Matrix:   \n",
      "Accuracy: "
     ]
    },
    {
     "data": {
      "text/plain": [
       "3×3 Array{Int64,2}:\n",
       " 22   0   0\n",
       "  0  14   1\n",
       "  0   0  13"
      ]
     },
     "metadata": {},
     "output_type": "display_data"
    },
    {
     "data": {
      "text/plain": [
       "3×3 Array{Int64,2}:\n",
       " 13   0   0\n",
       "  0  12   0\n",
       "  0   2  23"
      ]
     },
     "metadata": {},
     "output_type": "display_data"
    },
    {
     "name": "stdout",
     "output_type": "stream",
     "text": [
      "1.0\n",
      "Kappa:    1.0\n",
      "\n",
      "Fold 2\n",
      "Classes:  [\"Iris-setosa\", \"Iris-versicolor\", \"Iris-virginica\"]\n",
      "Matrix:   \n",
      "Accuracy: 0.98\n",
      "Kappa:    0.9692118226600985\n",
      "\n",
      "Fold 3\n",
      "Classes:  [\"Iris-setosa\", \"Iris-versicolor\", \"Iris-virginica\"]\n",
      "Matrix:   \n",
      "Accuracy: 0.96\n",
      "Kappa:    0.9370277078085641\n",
      "\n",
      "Mean Accuracy: 0.98\n"
     ]
    },
    {
     "data": {
      "text/plain": [
       "3-element Array{Float64,1}:\n",
       " 1.0 \n",
       " 0.98\n",
       " 0.96"
      ]
     },
     "execution_count": 11,
     "metadata": {},
     "output_type": "execute_result"
    }
   ],
   "source": [
    "apply_forest(model, [5.9,3.0,5.1,1.9])\n",
    "# get the probability of each label\n",
    "apply_forest_proba(model, [5.9,3.0,5.1,1.9], [\"Iris-setosa\", \"Iris-versicolor\", \"Iris-virginica\"])\n",
    "# run 3-fold cross validation for forests, using 2 random features per split\n",
    "n_folds=3; n_subfeatures=2\n",
    "accuracy = nfoldCV_forest(labels, features, n_folds, n_subfeatures)"
   ]
  },
  {
   "cell_type": "code",
   "execution_count": null,
   "metadata": {},
   "outputs": [],
   "source": []
  }
 ],
 "metadata": {
  "kernelspec": {
   "display_name": "Julia 1.1.0",
   "language": "julia",
   "name": "julia-1.1"
  },
  "language_info": {
   "file_extension": ".jl",
   "mimetype": "application/julia",
   "name": "julia",
   "version": "1.1.0"
  }
 },
 "nbformat": 4,
 "nbformat_minor": 2
}
